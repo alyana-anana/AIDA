{
  "nbformat": 4,
  "nbformat_minor": 0,
  "metadata": {
    "colab": {
      "name": "AIDA 58025 Alog - Revisiting Python.ipynb",
      "provenance": [],
      "authorship_tag": "ABX9TyPsKOtBoZFndaydT5J0Hkk9",
      "include_colab_link": true
    },
    "kernelspec": {
      "name": "python3",
      "display_name": "Python 3"
    }
  },
  "cells": [
    {
      "cell_type": "markdown",
      "metadata": {
        "id": "view-in-github",
        "colab_type": "text"
      },
      "source": [
        "<a href=\"https://colab.research.google.com/github/alyana-anana/AIDA/blob/main/week%201/AIDA_58025_Alog_Revisiting_Python.ipynb\" target=\"_parent\"><img src=\"https://colab.research.google.com/assets/colab-badge.svg\" alt=\"Open In Colab\"/></a>"
      ]
    },
    {
      "cell_type": "markdown",
      "metadata": {
        "id": "ydw8lsRV8AYW"
      },
      "source": [
        "#Revisiting Python\r\n",
        "@A.G. Alog (2021)\r\n",
        "This notebook discusses the basic and intermediate coding principles and coding design.\r\n"
      ]
    },
    {
      "cell_type": "markdown",
      "metadata": {
        "id": "5QjEkaTM8DdC"
      },
      "source": [
        "## Part 1: Programming Logic and Design\r\n",
        "\r\n",
        "In this section, we will revisit Programming Logic and Design using the Python language.\r\n",
        "\r\n",
        "![image](https://miro.medium.com/max/601/1*PPIp7twJJUknfohZqtL8pQ.png)\r\n",
        "Discussions about Python.\r\n",
        "\r\n",
        "###1.1. Values and Printing Variables\r\n"
      ]
    },
    {
      "cell_type": "code",
      "metadata": {
        "colab": {
          "base_uri": "https://localhost:8080/"
        },
        "id": "uPX57iYt8UR3",
        "outputId": "c53cb5a5-04ba-4d67-f9fe-a9f16713deb6"
      },
      "source": [
        "# This is a C++ line of code\r\n",
        "# int x=2;\r\n",
        "# Now this is a Python line of code\r\n",
        "x =2\r\n",
        "\r\n",
        "#print(x)\r\n",
        "#print(type(x))\r\n",
        "\r\n",
        "#print(\"The data type of x is\", type(x), \"and it's value is\", x, \".\")\r\n",
        "\r\n",
        "# Use the F String\r\n",
        "print(f\"The data type of x is {type(x)} and it's value is {x}.\")\r\n",
        "\r\n",
        "#The Formatted String\r\n",
        "print(\"The data type of x is {} and it's value is {}.\".format(type(x),x))\r\n"
      ],
      "execution_count": null,
      "outputs": [
        {
          "output_type": "stream",
          "text": [
            "The data type of x is <class 'int'> and it's value is 2.\n",
            "The data type of x is <class 'int'> and it's value is 2.\n"
          ],
          "name": "stdout"
        }
      ]
    },
    {
      "cell_type": "markdown",
      "metadata": {
        "id": "aNak9k7t8XnF"
      },
      "source": [
        "#Part 2: Onject-Oriented Programming"
      ]
    }
  ]
}